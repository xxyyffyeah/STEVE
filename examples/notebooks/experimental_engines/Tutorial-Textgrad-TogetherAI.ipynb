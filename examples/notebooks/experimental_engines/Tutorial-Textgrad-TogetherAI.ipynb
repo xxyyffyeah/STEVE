{
 "cells": [
  {
   "cell_type": "markdown",
   "metadata": {},
   "source": [
    "# Use TextGrad with TogetherAI\n",
    "\n"
   ]
  },
  {
   "cell_type": "markdown",
   "metadata": {},
   "source": [
    "# What is TextGrad?\n",
    "\n",
    "TextGrad is a recent framework for the end-to-end optimization of language models prompts thorugh text feedback. What this basically means is that TextGrad will allow you to optimize language models' prompts and solutions automatically.\n",
    "\n",
    "TogetherAI will give us the models to do this in an effective way!"
   ]
  },
  {
   "cell_type": "code",
   "execution_count": 9,
   "metadata": {},
   "outputs": [
    {
     "data": {
      "text/plain": [
       "True"
      ]
     },
     "execution_count": 9,
     "metadata": {},
     "output_type": "execute_result"
    }
   ],
   "source": [
    "import httpx\n",
    "from textgrad.engine_experimental.litellm import LiteLLMEngine\n",
    "import textgrad as tg\n",
    "from dotenv import load_dotenv\n",
    "\n",
    "load_dotenv()"
   ]
  },
  {
   "cell_type": "markdown",
   "metadata": {},
   "source": [
    "How to use togetherAI with TextGrad"
   ]
  },
  {
   "cell_type": "code",
   "execution_count": 17,
   "metadata": {},
   "outputs": [
    {
     "data": {
      "text/plain": [
       "'Hello, the answer to 3 + 4 is 7. Is there anything else I can help you with?'"
      ]
     },
     "execution_count": 17,
     "metadata": {},
     "output_type": "execute_result"
    }
   ],
   "source": [
    "generation = LiteLLMEngine(\"together_ai/meta-llama/Llama-3.3-70B-Instruct-Turbo\", cache=True).generate(content=\"hello, what's 3+4\", system_prompt=\"you are an assistant\")\n",
    "generation"
   ]
  },
  {
   "cell_type": "code",
   "execution_count": 6,
   "metadata": {},
   "outputs": [],
   "source": [
    "# We'll use below utilities to run a python function.\n",
    "from IPython.core.interactiveshell import InteractiveShell\n",
    "\n",
    "def run_function_in_interpreter(func_code):\n",
    "    #raise Exception(\"This function will run the code returned by GPT-4o. Remove this if you'd like to run the code!\")\n",
    "    interpreter = InteractiveShell.instance()\n",
    "    \n",
    "    interpreter.run_cell(func_code, store_history=False, silent=True)\n",
    "    \n",
    "    func_name = func_code.split(\"def \")[1].split(\"(\")[0].strip()\n",
    "    func = interpreter.user_ns[func_name]\n",
    "    \n",
    "    return func\n",
    "\n",
    "\n",
    "def test_longest_increasing_subsequence(fn):\n",
    "    nums = [10, 22, 9, 33, 21, 50, 41, 60]\n",
    "    assert fn(nums) == 5\n",
    "\n",
    "    nums = [7, 2, 1, 3, 8, 4, 9, 6, 5]\n",
    "    assert fn(nums) == 4\n",
    "\n",
    "    nums = [5, 4, 3, 2, 1]\n",
    "    assert fn(nums) == 1\n",
    "\n",
    "    nums = [1, 2, 3, 4, 5]\n",
    "    assert fn(nums) == 5\n",
    "\n",
    "    nums = [3, 1, 4, 1, 5, 9, 2, 6, 5, 3, 5]\n",
    "    assert fn(nums) == 4\n",
    "\n",
    "    nums = [10, 9, 2, 5, 3, 7, 101, 18]\n",
    "    assert fn(nums) == 4\n",
    "\n",
    "    nums = [0, 8, 4, 12, 2, 10, 6, 14, 1, 9, 5, 13, 3, 11, 7, 15]\n",
    "    assert fn(nums) == 6\n",
    "\n",
    "    nums = [7, 7, 7, 7, 7, 7, 7]\n",
    "    assert fn(nums) == 1\n",
    "\n",
    "    nums = [20, 25, 47, 35, 56, 68, 98, 101, 212, 301, 415, 500]\n",
    "    assert fn(nums) == 11\n",
    "\n",
    "    nums = [9, 8, 7, 6, 5, 4, 3, 2, 1, 0]\n",
    "    assert fn(nums) == 1\n",
    "\n",
    "    print(\"All test cases passed!\")"
   ]
  },
  {
   "cell_type": "markdown",
   "metadata": {},
   "source": [
    "### Making Code Faster\n"
   ]
  },
  {
   "cell_type": "code",
   "execution_count": 7,
   "metadata": {},
   "outputs": [],
   "source": [
    "import random\n",
    "import time\n",
    "\n",
    "problem_text = \"\"\"Longest Increasing Subsequence (LIS)\n",
    "\n",
    "Problem Statement:\n",
    "Given a sequence of integers, find the length of the longest subsequence that is strictly increasing. A subsequence is a sequence that can be derived from another sequence by deleting some or no elements without changing the order of the remaining elements.\n",
    "\n",
    "Input:\n",
    "The input consists of a list of integers representing the sequence.\n",
    "\n",
    "Output:\n",
    "The output should be an integer representing the length of the longest increasing subsequence.\"\"\"\n",
    "\n",
    "initial_solution = \"\"\"\n",
    "def longest_increasing_subsequence(nums):\n",
    "    n = len(nums)\n",
    "    dp = [1] * n\n",
    "    \n",
    "    for i in range(1, n):\n",
    "        for j in range(i):\n",
    "            if nums[i] > nums[j]:\n",
    "                dp[i] = max(dp[i], dp[j] + 1)\n",
    "    \n",
    "    max_length = max(dp)\n",
    "    lis = []\n",
    "    \n",
    "    for i in range(n - 1, -1, -1):\n",
    "        if dp[i] == max_length:\n",
    "            lis.append(nums[i])\n",
    "            max_length -= 1\n",
    "    \n",
    "    return len(lis[::-1])\n",
    "\"\"\"\n",
    "\n",
    "# Generate a random test case\n",
    "def generate_random_test_case(size, min_value, max_value):\n",
    "    return [random.randint(min_value, max_value) for _ in range(size)]\n",
    "\n",
    "# Test the function with a random test case\n",
    "size = 10000  # Adjust the size as needed\n",
    "min_value = 1\n",
    "max_value = 1000\n",
    "\n",
    "nums = generate_random_test_case(size, min_value, max_value)\n"
   ]
  },
  {
   "cell_type": "code",
   "execution_count": 8,
   "metadata": {},
   "outputs": [
    {
     "name": "stdout",
     "output_type": "stream",
     "text": [
      "Test Case Size: 10000\n",
      "Longest Increasing Subsequence Length: 180\n",
      "Runtime: 2.42051 seconds\n",
      "All test cases passed!\n"
     ]
    }
   ],
   "source": [
    "longest_increasing_subsequence = run_function_in_interpreter(initial_solution)\n",
    "\n",
    "start_time = time.time()\n",
    "lis = longest_increasing_subsequence(nums)\n",
    "end_time = time.time()\n",
    "\n",
    "print(f\"Test Case Size: {size}\")\n",
    "print(f\"Longest Increasing Subsequence Length: {lis}\")\n",
    "print(f\"Runtime: {end_time - start_time:.5f} seconds\")\n",
    "\n",
    "# Test for all test cases\n",
    "test_longest_increasing_subsequence(longest_increasing_subsequence)"
   ]
  },
  {
   "cell_type": "code",
   "execution_count": 26,
   "metadata": {},
   "outputs": [],
   "source": [
    "llm_engine = LiteLLMEngine(\"together_ai/meta-llama/Llama-3.3-70B-Instruct-Turbo\", cache=True)\n",
    "tg.set_backward_engine(llm_engine, override=True)\n",
    "\n",
    "# Code is the variable of interest we want to optimize -- so requires_grad=True\n",
    "code = tg.Variable(value=initial_solution,\n",
    "                requires_grad=True,\n",
    "                role_description=\"code instance to optimize\")\n",
    "\n",
    "# We are not interested in optimizing the problem -- so requires_grad=False\n",
    "problem = tg.Variable(problem_text, \n",
    "                    requires_grad=False, \n",
    "                    role_description=\"the coding problem\")\n",
    "\n",
    "# Let TGD know to update code!\n",
    "optimizer = tg.TGD(parameters=[code])"
   ]
  },
  {
   "cell_type": "code",
   "execution_count": 27,
   "metadata": {},
   "outputs": [],
   "source": [
    "# The system prompt that will guide the behavior of the loss function.\n",
    "loss_system_prompt = \"You are a smart language model that evaluates code snippets. You do not solve problems or propose new code snippets, only evaluate existing solutions critically and give very concise feedback.\"\n",
    "loss_system_prompt = tg.Variable(loss_system_prompt, requires_grad=False, role_description=\"system prompt to the loss function\")\n",
    "\n",
    "# The instruction that will be the prefix\n",
    "instruction = \"\"\"Think about the problem and the code snippet. Does the code solve the problem? What is the runtime complexity?\"\"\"\n",
    "\n",
    "# The format string and setting up the call\n",
    "format_string = \"{instruction}\\nProblem: {{problem}}\\nCurrent Code: {{code}}\"\n",
    "format_string = format_string.format(instruction=instruction)\n",
    "\n",
    "fields = {\"problem\": None, \"code\": None}\n",
    "formatted_llm_call = tg.autograd.FormattedLLMCall(engine=llm_engine,\n",
    "                                                  format_string=format_string,\n",
    "                                                  fields=fields,\n",
    "                                                  system_prompt=loss_system_prompt)\n",
    "\n",
    "# Finally, the loss function\n",
    "def loss_fn(problem: tg.Variable, code: tg.Variable) -> tg.Variable:\n",
    "    inputs = {\"problem\": problem, \"code\": code}\n",
    "    \n",
    "    return formatted_llm_call(inputs=inputs,\n",
    "                              response_role_description=f\"evaluation of the {code.get_role_description()}\")\n",
    "\n"
   ]
  },
  {
   "cell_type": "code",
   "execution_count": 28,
   "metadata": {},
   "outputs": [
    {
     "name": "stdout",
     "output_type": "stream",
     "text": [
      "The code solves the problem. \n",
      "Runtime complexity: O(n^2), where n is the length of the input sequence. \n",
      "\n",
      "Note: The code not only finds the length of the longest increasing subsequence but also attempts to reconstruct it. However, the reconstruction part is unnecessary as the problem only asks for the length. The line `return len(lis[::-1])` is redundant and can be simplified to `return max(dp)`.\n"
     ]
    }
   ],
   "source": [
    "loss = loss_fn(problem, code)\n",
    "print(loss.value)"
   ]
  },
  {
   "cell_type": "code",
   "execution_count": 29,
   "metadata": {},
   "outputs": [
    {
     "name": "stdout",
     "output_type": "stream",
     "text": [
      "{Variable(value=To improve the code instance, several adjustments can be made to enhance its efficiency and simplicity, directly impacting the objective function by reducing unnecessary computations and improving runtime complexity.\n",
      "\n",
      "1. **Simplification of the Return Statement**: The current implementation not only finds the length of the longest increasing subsequence (LIS) but also attempts to reconstruct it, which is unnecessary given the problem statement only asks for the length. The line `return len(lis[::-1])` can be simplified to `return max(dp)`, as the `max(dp)` already holds the length of the LIS. This simplification removes redundant operations, improving the code's efficiency.\n",
      "\n",
      "2. **Optimization of Dynamic Programming (DP) Table**: The DP table `dp` is initialized with all elements set to 1, assuming each single element is a subsequence of length 1. This initialization is correct, but the subsequent loops can be optimized. The current implementation has a runtime complexity of O(n^2) due to the nested loops. While this is the optimal time complexity for this problem using dynamic programming, ensuring that the loops are as efficient as possible is crucial. For example, using more efficient data structures or algorithms for finding the maximum value in the `dp` table could offer minor improvements, though the overall complexity would remain O(n^2).\n",
      "\n",
      "3. **Redundant Computations**: The code computes `max_length` and then iterates over the `dp` table in reverse to reconstruct the LIS. Since the goal is only to find the length of the LIS, the reconstruction loop is unnecessary. By removing this loop, the code avoids redundant computations, directly improving the objective function by reducing the number of operations.\n",
      "\n",
      "4. **Input Validation**: Adding input validation to check if the input `nums` is a list and if all elements in the list are integers can improve the code's robustness. This does not directly improve the runtime complexity but makes the code more reliable and less prone to errors, which can indirectly affect performance by reducing the need for error handling.\n",
      "\n",
      "5. **Type Hinting and Documentation**: While not directly affecting the runtime complexity, adding type hinting for the function parameters and return types, along with docstrings to explain what the function does, can improve the code's readability and maintainability. This is particularly important for larger projects or when the code is used by others, as it facilitates understanding and reduces the time spent on debugging or modifying the code.\n",
      "\n",
      "6. **Potential for Parallelization**: For very large inputs, exploring possibilities for parallelizing the computation of the `dp` table could offer significant speedups, though this would likely require a substantial redesign of the algorithm and might not be feasible or efficient for all types of input sequences.\n",
      "\n",
      "By addressing these points, the code instance can be optimized to better achieve the objective function, primarily by simplifying unnecessary computations and ensuring the code is as efficient and robust as possible within the constraints of the dynamic programming approach., role=feedback to code instance to optimize, grads=set())}\n"
     ]
    }
   ],
   "source": [
    "loss.backward()\n",
    "print(code.gradients)"
   ]
  },
  {
   "cell_type": "code",
   "execution_count": 30,
   "metadata": {},
   "outputs": [],
   "source": [
    "optimizer.step()"
   ]
  },
  {
   "cell_type": "code",
   "execution_count": 15,
   "metadata": {},
   "outputs": [
    {
     "name": "stdout",
     "output_type": "stream",
     "text": [
      "Longest Increasing Subsequence Length: 180\n",
      "Runtime: 2.39640 seconds\n",
      "All test cases passed!\n"
     ]
    }
   ],
   "source": [
    "# Hopefully, we should get much better runtime!\n",
    "longest_increasing_subsequence = run_function_in_interpreter(code.value)\n",
    "\n",
    "start_time = time.time()\n",
    "lis = longest_increasing_subsequence(nums)\n",
    "end_time = time.time()\n",
    "\n",
    "print(f\"Longest Increasing Subsequence Length: {lis}\")\n",
    "print(f\"Runtime: {end_time - start_time:.5f} seconds\")\n",
    "\n",
    "test_longest_increasing_subsequence(longest_increasing_subsequence)"
   ]
  },
  {
   "cell_type": "code",
   "execution_count": 33,
   "metadata": {},
   "outputs": [],
   "source": [
    "optimizer.zero_grad()\n",
    "loss = loss_fn(problem, code)\n",
    "loss.backward()\n",
    "optimizer.step()"
   ]
  },
  {
   "cell_type": "code",
   "execution_count": 34,
   "metadata": {},
   "outputs": [
    {
     "name": "stdout",
     "output_type": "stream",
     "text": [
      "6\n",
      "6\n",
      "Longest Increasing Subsequence Length: 180\n",
      "Runtime: 2.48514 seconds\n",
      "All test cases passed!\n"
     ]
    }
   ],
   "source": [
    "longest_increasing_subsequence = run_function_in_interpreter(code.value)\n",
    "\n",
    "start_time = time.time()\n",
    "lis = longest_increasing_subsequence(nums)\n",
    "end_time = time.time()\n",
    "\n",
    "print(f\"Longest Increasing Subsequence Length: {lis}\")\n",
    "print(f\"Runtime: {end_time - start_time:.5f} seconds\")\n",
    "\n",
    "test_longest_increasing_subsequence(longest_increasing_subsequence)"
   ]
  },
  {
   "cell_type": "code",
   "execution_count": 35,
   "metadata": {},
   "outputs": [
    {
     "name": "stdout",
     "output_type": "stream",
     "text": [
      "def longest_increasing_subsequence(nums: list[int]) -> int:\n",
      "    \"\"\"\n",
      "    This function calculates the length of the longest increasing subsequence in a given list of integers.\n",
      "    \n",
      "    Args:\n",
      "    nums (list[int]): A list of integers.\n",
      "    \n",
      "    Returns:\n",
      "    int: The length of the longest increasing subsequence.\n",
      "    \"\"\"\n",
      "    \n",
      "    # Input validation\n",
      "    if not isinstance(nums, list) or not all(isinstance(num, int) for num in nums):\n",
      "        raise ValueError(\"Input must be a list of integers.\")\n",
      "    \n",
      "    n = len(nums)\n",
      "    if n == 0:\n",
      "        return 0\n",
      "    \n",
      "    # Initialize the DP table\n",
      "    dp = [1] * n\n",
      "    \n",
      "    # Compute the lengths of the longest increasing subsequences\n",
      "    for i in range(1, n):\n",
      "        for j in range(i):\n",
      "            if nums[i] > nums[j]:\n",
      "                dp[i] = max(dp[i], dp[j] + 1)\n",
      "    \n",
      "    # Return the length of the longest increasing subsequence\n",
      "    return max(dp)\n",
      "\n",
      "def longest_increasing_subsequence_binary_search(nums: list[int]) -> int:\n",
      "    \"\"\"\n",
      "    This function calculates the length of the longest increasing subsequence in a given list of integers.\n",
      "    \n",
      "    Args:\n",
      "    nums (list[int]): A list of integers.\n",
      "    \n",
      "    Returns:\n",
      "    int: The length of the longest increasing subsequence.\n",
      "    \"\"\"\n",
      "    \n",
      "    # Input validation\n",
      "    if not isinstance(nums, list) or not all(isinstance(num, int) for num in nums):\n",
      "        raise ValueError(\"Input must be a list of integers.\")\n",
      "    \n",
      "    n = len(nums)\n",
      "    if n == 0:\n",
      "        return 0\n",
      "    \n",
      "    # Initialize the list to store the smallest tail of each subsequence length\n",
      "    tails = [nums[0]]\n",
      "    \n",
      "    # Compute the lengths of the longest increasing subsequences\n",
      "    for num in nums[1:]:\n",
      "        # If the current number is greater than the last tail, append it\n",
      "        if num > tails[-1]:\n",
      "            tails.append(num)\n",
      "        # Otherwise, find the smallest tail that is greater than or equal to the current number and replace it\n",
      "        else:\n",
      "            idx = binary_search(tails, num)\n",
      "            tails[idx] = num\n",
      "    \n",
      "    # Return the length of the longest increasing subsequence\n",
      "    return len(tails)\n",
      "\n",
      "def binary_search(arr: list[int], target: int) -> int:\n",
      "    \"\"\"\n",
      "    This function performs a binary search on a sorted list to find the index of the smallest element that is greater than or equal to the target.\n",
      "    \n",
      "    Args:\n",
      "    arr (list[int]): A sorted list of integers.\n",
      "    target (int): The target value.\n",
      "    \n",
      "    Returns:\n",
      "    int: The index of the smallest element that is greater than or equal to the target.\n",
      "    \"\"\"\n",
      "    \n",
      "    left, right = 0, len(arr) - 1\n",
      "    while left < right:\n",
      "        mid = (left + right) // 2\n",
      "        if arr[mid] < target:\n",
      "            left = mid + 1\n",
      "        else:\n",
      "            right = mid\n",
      "    return left\n",
      "\n",
      "def longest_increasing_subsequence_optimized(nums: list[int]) -> int:\n",
      "    \"\"\"\n",
      "    This function calculates the length of the longest increasing subsequence in a given list of integers.\n",
      "    \n",
      "    Args:\n",
      "    nums (list[int]): A list of integers.\n",
      "    \n",
      "    Returns:\n",
      "    int: The length of the longest increasing subsequence.\n",
      "    \"\"\"\n",
      "    \n",
      "    n = len(nums)\n",
      "    # Determine the optimal threshold based on the system's performance characteristics\n",
      "    threshold = determine_optimal_threshold(n)\n",
      "    \n",
      "    if n < threshold:\n",
      "        return longest_increasing_subsequence(nums)\n",
      "    else:\n",
      "        return longest_increasing_subsequence_binary_search(nums)\n",
      "\n",
      "def determine_optimal_threshold(n: int) -> int:\n",
      "    \"\"\"\n",
      "    This function determines the optimal threshold based on the system's performance characteristics.\n",
      "    \n",
      "    Args:\n",
      "    n (int): The length of the input list.\n",
      "    \n",
      "    Returns:\n",
      "    int: The optimal threshold.\n",
      "    \"\"\"\n",
      "    \n",
      "    # For demonstration purposes, a simple threshold of 100 is used\n",
      "    # In a real-world scenario, this would be determined through benchmarking and experimentation\n",
      "    return 100\n",
      "\n",
      "def memoized_longest_increasing_subsequence(nums: list[int]) -> int:\n",
      "    \"\"\"\n",
      "    This function calculates the length of the longest increasing subsequence in a given list of integers using memoization.\n",
      "    \n",
      "    Args:\n",
      "    nums (list[int]): A list of integers.\n",
      "    \n",
      "    Returns:\n",
      "    int: The length of the longest increasing subsequence.\n",
      "    \"\"\"\n",
      "    \n",
      "    n = len(nums)\n",
      "    memo = {}\n",
      "    \n",
      "    def recurse(i: int) -> int:\n",
      "        if i in memo:\n",
      "            return memo[i]\n",
      "        \n",
      "        max_length = 1\n",
      "        for j in range(i):\n",
      "            if nums[i] > nums[j]:\n",
      "                max_length = max(max_length, recurse(j) + 1)\n",
      "        \n",
      "        memo[i] = max_length\n",
      "        return max_length\n",
      "    \n",
      "    return max(recurse(i) for i in range(n))\n",
      "\n",
      "# Test the functions\n",
      "print(longest_increasing_subsequence_optimized([10, 22, 9, 33, 21, 50, 41, 60, 80]))\n",
      "print(memoized_longest_increasing_subsequence([10, 22, 9, 33, 21, 50, 41, 60, 80]))\n"
     ]
    }
   ],
   "source": [
    "print(code.value)"
   ]
  },
  {
   "cell_type": "code",
   "execution_count": null,
   "metadata": {},
   "outputs": [],
   "source": []
  }
 ],
 "metadata": {
  "kernelspec": {
   "display_name": "Python 3",
   "language": "python",
   "name": "python3"
  },
  "language_info": {
   "codemirror_mode": {
    "name": "ipython",
    "version": 3
   },
   "file_extension": ".py",
   "mimetype": "text/x-python",
   "name": "python",
   "nbconvert_exporter": "python",
   "pygments_lexer": "ipython3",
   "version": "3.12.0"
  }
 },
 "nbformat": 4,
 "nbformat_minor": 2
}
