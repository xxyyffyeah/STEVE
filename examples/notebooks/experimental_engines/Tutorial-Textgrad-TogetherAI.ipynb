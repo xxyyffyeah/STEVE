{
 "cells": [
  {
   "cell_type": "markdown",
   "metadata": {},
   "source": [
    "# Self-Improving Agents with TextGrad and TogetherAI\n",
    "\n"
   ]
  },
  {
   "cell_type": "markdown",
   "metadata": {},
   "source": [
    "# What is TextGrad?\n",
    "\n",
    "TextGrad is a recent framework for the end-to-end optimization of language models prompts thorugh text feedback. What this basically means is that TextGrad will allow you to optimize language models' prompts and solutions automatically.\n",
    "\n",
    "A few different use-cases can be implemented in TextGrad, but the main two are:\n",
    "\n",
    "1) Prompt Optimization\n",
    "\n",
    "2) Test-Time Optimization\n",
    "\n",
    "\n",
    "TogetherAI will give us the models to do this in an effective way!"
   ]
  },
  {
   "cell_type": "code",
   "execution_count": 1,
   "metadata": {},
   "outputs": [
    {
     "name": "stderr",
     "output_type": "stream",
     "text": [
      "/Users/federico/.pyenv/versions/3.12.0/lib/python3.12/site-packages/pydantic/_internal/_config.py:345: UserWarning: Valid config keys have changed in V2:\n",
      "* 'fields' has been removed\n",
      "  warnings.warn(message, UserWarning)\n"
     ]
    },
    {
     "data": {
      "text/plain": [
       "True"
      ]
     },
     "execution_count": 1,
     "metadata": {},
     "output_type": "execute_result"
    }
   ],
   "source": [
    "import httpx\n",
    "from textgrad.engine_experimental.litellm import LiteLLMEngine\n",
    "import textgrad as tg\n",
    "from dotenv import load_dotenv\n",
    "\n",
    "load_dotenv()"
   ]
  },
  {
   "cell_type": "markdown",
   "metadata": {},
   "source": [
    "How to use togetherAI with TextGrad"
   ]
  },
  {
   "cell_type": "code",
   "execution_count": 46,
   "metadata": {},
   "outputs": [
    {
     "data": {
      "text/plain": [
       "'Hello! The answer to 3 + 4 is 7. How can I assist you further?'"
      ]
     },
     "execution_count": 46,
     "metadata": {},
     "output_type": "execute_result"
    }
   ],
   "source": [
    "generation = LiteLLMEngine(\"together_ai/meta-llama/Meta-Llama-3.1-405B-Instruct-Turbo\", cache=True).generate(content=\"hello, what's 3+4\", system_prompt=\"you are an assistant\")\n",
    "generation"
   ]
  },
  {
   "cell_type": "code",
   "execution_count": 47,
   "metadata": {},
   "outputs": [],
   "source": [
    "# We'll use below utilities to run a python function.\n",
    "from IPython.core.interactiveshell import InteractiveShell\n",
    "\n",
    "def run_function_in_interpreter(func_code):\n",
    "    #raise Exception(\"This function will run the code returned by GPT-4o. Remove this if you'd like to run the code!\")\n",
    "    interpreter = InteractiveShell.instance()\n",
    "    \n",
    "    interpreter.run_cell(func_code, store_history=False, silent=True)\n",
    "    \n",
    "    func_name = func_code.split(\"def \")[1].split(\"(\")[0].strip()\n",
    "    func = interpreter.user_ns[func_name]\n",
    "    \n",
    "    return func\n",
    "\n",
    "\n",
    "def test_longest_increasing_subsequence(fn):\n",
    "    nums = [10, 22, 9, 33, 21, 50, 41, 60]\n",
    "    assert fn(nums) == 5\n",
    "\n",
    "    nums = [7, 2, 1, 3, 8, 4, 9, 6, 5]\n",
    "    assert fn(nums) == 4\n",
    "\n",
    "    nums = [5, 4, 3, 2, 1]\n",
    "    assert fn(nums) == 1\n",
    "\n",
    "    nums = [1, 2, 3, 4, 5]\n",
    "    assert fn(nums) == 5\n",
    "\n",
    "    nums = [3, 1, 4, 1, 5, 9, 2, 6, 5, 3, 5]\n",
    "    assert fn(nums) == 4\n",
    "\n",
    "    nums = [10, 9, 2, 5, 3, 7, 101, 18]\n",
    "    assert fn(nums) == 4\n",
    "\n",
    "    nums = [0, 8, 4, 12, 2, 10, 6, 14, 1, 9, 5, 13, 3, 11, 7, 15]\n",
    "    assert fn(nums) == 6\n",
    "\n",
    "    nums = [7, 7, 7, 7, 7, 7, 7]\n",
    "    assert fn(nums) == 1\n",
    "\n",
    "    nums = [20, 25, 47, 35, 56, 68, 98, 101, 212, 301, 415, 500]\n",
    "    assert fn(nums) == 11\n",
    "\n",
    "    nums = [9, 8, 7, 6, 5, 4, 3, 2, 1, 0]\n",
    "    assert fn(nums) == 1\n",
    "\n",
    "    print(\"All test cases passed!\")"
   ]
  },
  {
   "cell_type": "markdown",
   "metadata": {},
   "source": [
    "### Making Code Faster\n"
   ]
  },
  {
   "cell_type": "code",
   "execution_count": 48,
   "metadata": {},
   "outputs": [],
   "source": [
    "import random\n",
    "import time\n",
    "\n",
    "problem_text = \"\"\"Longest Increasing Subsequence (LIS)\n",
    "\n",
    "Problem Statement:\n",
    "Given a sequence of integers, find the length of the longest subsequence that is strictly increasing. A subsequence is a sequence that can be derived from another sequence by deleting some or no elements without changing the order of the remaining elements.\n",
    "\n",
    "Input:\n",
    "The input consists of a list of integers representing the sequence.\n",
    "\n",
    "Output:\n",
    "The output should be an integer representing the length of the longest increasing subsequence.\"\"\"\n",
    "\n",
    "initial_solution = \"\"\"\n",
    "def longest_increasing_subsequence(nums):\n",
    "    n = len(nums)\n",
    "    dp = [1] * n\n",
    "    \n",
    "    for i in range(1, n):\n",
    "        for j in range(i):\n",
    "            if nums[i] > nums[j]:\n",
    "                dp[i] = max(dp[i], dp[j] + 1)\n",
    "    \n",
    "    max_length = max(dp)\n",
    "    lis = []\n",
    "    \n",
    "    for i in range(n - 1, -1, -1):\n",
    "        if dp[i] == max_length:\n",
    "            lis.append(nums[i])\n",
    "            max_length -= 1\n",
    "    \n",
    "    return len(lis[::-1])\n",
    "\"\"\"\n",
    "\n",
    "# Generate a random test case\n",
    "def generate_random_test_case(size, min_value, max_value):\n",
    "    return [random.randint(min_value, max_value) for _ in range(size)]\n",
    "\n",
    "# Test the function with a random test case\n",
    "size = 10000  # Adjust the size as needed\n",
    "min_value = 1\n",
    "max_value = 10000\n",
    "\n",
    "nums = generate_random_test_case(size, min_value, max_value)\n"
   ]
  },
  {
   "cell_type": "code",
   "execution_count": 49,
   "metadata": {},
   "outputs": [
    {
     "name": "stdout",
     "output_type": "stream",
     "text": [
      "Test Case Size: 10000\n",
      "Longest Increasing Subsequence Length: 192\n",
      "Runtime: 2.41299 seconds\n",
      "All test cases passed!\n"
     ]
    }
   ],
   "source": [
    "longest_increasing_subsequence = run_function_in_interpreter(initial_solution)\n",
    "\n",
    "start_time = time.time()\n",
    "lis = longest_increasing_subsequence(nums)\n",
    "end_time = time.time()\n",
    "\n",
    "print(f\"Test Case Size: {size}\")\n",
    "print(f\"Longest Increasing Subsequence Length: {lis}\")\n",
    "print(f\"Runtime: {end_time - start_time:.5f} seconds\")\n",
    "\n",
    "# Test for all test cases\n",
    "test_longest_increasing_subsequence(longest_increasing_subsequence)"
   ]
  },
  {
   "cell_type": "code",
   "execution_count": 55,
   "metadata": {},
   "outputs": [],
   "source": [
    "llm_engine = LiteLLMEngine(\"together_ai/meta-llama/Meta-Llama-3.1-405B-Instruct-Turbo\", cache=True)\n",
    "tg.set_backward_engine(llm_engine, override=True)\n",
    "\n",
    "# Code is the variable of interest we want to optimize -- so requires_grad=True\n",
    "code = tg.Variable(value=initial_solution,\n",
    "                requires_grad=True,\n",
    "                role_description=\"code instance to optimize\")\n",
    "\n",
    "# We are not interested in optimizing the problem -- so requires_grad=False\n",
    "problem = tg.Variable(problem_text, \n",
    "                    requires_grad=False, \n",
    "                    role_description=\"the coding problem statement\")\n",
    "\n",
    "# Let TGD know to update code!\n",
    "optimizer = tg.TGD(parameters=[code])"
   ]
  },
  {
   "cell_type": "code",
   "execution_count": 56,
   "metadata": {},
   "outputs": [],
   "source": [
    "# The system prompt that will guide the behavior of the loss function.\n",
    "loss_system_prompt = \"You are a smart language model that evaluates code snippets. You do not solve problems or propose new code snippets, only evaluate existing solutions critically and strong feedback.\"\n",
    "loss_system_prompt = tg.Variable(loss_system_prompt, requires_grad=False, role_description=\"system prompt to the loss function\")\n",
    "\n",
    "# The instruction that will be the prefix\n",
    "instruction = \"\"\"Think about the problem and the code snippet. Does the code solve the problem? What is the runtime complexity?\"\"\"\n",
    "\n",
    "# The format string and setting up the call\n",
    "format_string = \"{instruction}\\nProblem: {{problem}}\\nCurrent Code: {{code}}\"\n",
    "format_string = format_string.format(instruction=instruction)\n",
    "\n",
    "fields = {\"problem\": None, \"code\": None}\n",
    "formatted_llm_call = tg.autograd.FormattedLLMCall(engine=llm_engine,\n",
    "                                                  format_string=format_string,\n",
    "                                                  fields=fields,\n",
    "                                                  system_prompt=loss_system_prompt)\n",
    "\n",
    "# Finally, the loss function\n",
    "def loss_fn(problem: tg.Variable, code: tg.Variable) -> tg.Variable:\n",
    "    inputs = {\"problem\": problem, \"code\": code}\n",
    "    \n",
    "    return formatted_llm_call(inputs=inputs,\n",
    "                              response_role_description=f\"evaluation of the {code.get_role_description()}\")\n",
    "\n"
   ]
  },
  {
   "cell_type": "code",
   "execution_count": 57,
   "metadata": {},
   "outputs": [
    {
     "name": "stdout",
     "output_type": "stream",
     "text": [
      "The code provided attempts to solve the Longest Increasing Subsequence (LIS) problem. However, there are a few issues with the implementation.\n",
      "\n",
      "Firstly, the code correctly uses dynamic programming to build up the `dp` array, where `dp[i]` represents the length of the longest increasing subsequence ending at index `i`. The nested loops have a time complexity of O(n^2), which is acceptable for this problem.\n",
      "\n",
      "However, the second part of the code, which attempts to reconstruct the longest increasing subsequence, is unnecessary and incorrect. The `lis` list is being built in reverse order, but the `max_length` variable is being decremented, which will cause the function to return incorrect results.\n",
      "\n",
      "A simpler and more efficient approach would be to directly return the maximum value from the `dp` array, which represents the length of the longest increasing subsequence.\n",
      "\n",
      "Here's a revised version of the code:\n",
      "\n",
      "```python\n",
      "def longest_increasing_subsequence(nums):\n",
      "    n = len(nums)\n",
      "    dp = [1] * n\n",
      "    \n",
      "    for i in range(1, n):\n",
      "        for j in range(i):\n",
      "            if nums[i] > nums[j]:\n",
      "                dp[i] = max(dp[i], dp[j] + 1)\n",
      "    \n",
      "    return max(dp)\n",
      "```\n",
      "\n",
      "This revised code has the same time complexity of O(n^2) but is more efficient and accurate.\n",
      "\n",
      "In terms of runtime complexity, the code has a time complexity of O(n^2) due to the nested loops, where n is the length of the input sequence. The space complexity is O(n) for the `dp` array.\n"
     ]
    }
   ],
   "source": [
    "loss = loss_fn(problem, code)\n",
    "print(loss.value)"
   ]
  },
  {
   "cell_type": "code",
   "execution_count": 58,
   "metadata": {},
   "outputs": [
    {
     "name": "stdout",
     "output_type": "stream",
     "text": [
      "{Variable(value=Based on the evaluation output, here are some feedback and criticisms to improve the code instance:\n",
      "\n",
      "1. **Unnecessary Reconstruction**: The code attempts to reconstruct the longest increasing subsequence, which is not necessary to solve the problem. This can be removed, and the function can directly return the maximum value from the `dp` array.\n",
      "\n",
      "2. **Incorrect Reconstruction**: Even if reconstruction was necessary, the current implementation is incorrect. The `max_length` variable is being decremented, which will cause the function to return incorrect results. This highlights the importance of thoroughly testing and verifying the correctness of the code.\n",
      "\n",
      "3. **Inefficient Use of Space**: The code uses an additional list `lis` to store the reconstructed subsequence, which is not necessary. This can be removed, and the space complexity can be improved.\n",
      "\n",
      "4. **Redundant Operations**: The code uses slicing and reversing operations (`lis[::-1]`) to return the length of the subsequence. These operations are redundant and can be avoided by directly returning the maximum value from the `dp` array.\n",
      "\n",
      "5. **Lack of Input Validation**: The code does not validate the input sequence. It assumes that the input is a list of integers, but it does not check for this. Adding input validation can improve the robustness of the code.\n",
      "\n",
      "6. **Variable Naming**: The variable names `n` and `dp` are not descriptive. Using more descriptive names can improve the readability of the code.\n",
      "\n",
      "7. **Code Organization**: The code can be organized into separate functions for calculating the `dp` array and returning the maximum value. This can improve the modularity and maintainability of the code.\n",
      "\n",
      "8. **Type Hints**: The code does not use type hints for the function parameters and return type. Adding type hints can improve the clarity and readability of the code.\n",
      "\n",
      "9. **Docstrings**: The code does not include docstrings to describe the function's purpose, parameters, and return value. Adding docstrings can improve the documentation and usability of the code.\n",
      "\n",
      "By addressing these issues, the code instance can be improved to be more efficient, accurate, and maintainable, which aligns with the objective function of improving the code's performance and quality., role=feedback to code instance to optimize, grads=set())}\n"
     ]
    }
   ],
   "source": [
    "loss.backward()\n",
    "print(code.gradients)"
   ]
  },
  {
   "cell_type": "code",
   "execution_count": 59,
   "metadata": {},
   "outputs": [],
   "source": [
    "optimizer.step()"
   ]
  },
  {
   "cell_type": "code",
   "execution_count": 60,
   "metadata": {},
   "outputs": [
    {
     "name": "stdout",
     "output_type": "stream",
     "text": [
      "Longest Increasing Subsequence Length: 192\n",
      "Runtime: 2.41340 seconds\n",
      "All test cases passed!\n"
     ]
    }
   ],
   "source": [
    "# Hopefully, we should get much better runtime!\n",
    "longest_increasing_subsequence = run_function_in_interpreter(code.value)\n",
    "\n",
    "start_time = time.time()\n",
    "lis = longest_increasing_subsequence(nums)\n",
    "end_time = time.time()\n",
    "\n",
    "print(f\"Longest Increasing Subsequence Length: {lis}\")\n",
    "print(f\"Runtime: {end_time - start_time:.5f} seconds\")\n",
    "\n",
    "test_longest_increasing_subsequence(longest_increasing_subsequence)"
   ]
  },
  {
   "cell_type": "code",
   "execution_count": 61,
   "metadata": {},
   "outputs": [],
   "source": [
    "optimizer.zero_grad()\n",
    "loss = loss_fn(problem, code)\n",
    "loss.backward()\n",
    "optimizer.step()"
   ]
  },
  {
   "cell_type": "code",
   "execution_count": 62,
   "metadata": {},
   "outputs": [
    {
     "name": "stdout",
     "output_type": "stream",
     "text": [
      "Longest Increasing Subsequence Length: 192\n",
      "Runtime: 0.00524 seconds\n",
      "All test cases passed!\n"
     ]
    }
   ],
   "source": [
    "longest_increasing_subsequence = run_function_in_interpreter(code.value)\n",
    "\n",
    "start_time = time.time()\n",
    "lis = longest_increasing_subsequence(nums)\n",
    "end_time = time.time()\n",
    "\n",
    "print(f\"Longest Increasing Subsequence Length: {lis}\")\n",
    "print(f\"Runtime: {end_time - start_time:.5f} seconds\")\n",
    "\n",
    "test_longest_increasing_subsequence(longest_increasing_subsequence)"
   ]
  },
  {
   "cell_type": "code",
   "execution_count": 63,
   "metadata": {},
   "outputs": [
    {
     "name": "stdout",
     "output_type": "stream",
     "text": [
      "def longest_increasing_subsequence(nums: list[int]) -> int:\n",
      "    \"\"\"\n",
      "    This function calculates the length of the longest increasing subsequence in a given sequence of integers.\n",
      "\n",
      "    Args:\n",
      "        nums (list[int]): A list of integers representing the sequence.\n",
      "\n",
      "    Returns:\n",
      "        int: The length of the longest increasing subsequence.\n",
      "\n",
      "    Raises:\n",
      "        TypeError: If the input is not a list of integers.\n",
      "    \"\"\"\n",
      "    if not isinstance(nums, list) or not all(isinstance(num, int) for num in nums):\n",
      "        raise TypeError(\"Input must be a list of integers\")\n",
      "\n",
      "    if not nums:\n",
      "        return 0\n",
      "\n",
      "    # Initialize a list to store the smallest tail of each subsequence length\n",
      "    tails = [nums[0]]\n",
      "\n",
      "    for num in nums[1:]:\n",
      "        # If the current number is greater than the last tail, append it to the tails list\n",
      "        if num > tails[-1]:\n",
      "            tails.append(num)\n",
      "        else:\n",
      "            # Find the index of the smallest tail that is greater than or equal to the current number\n",
      "            idx = binary_search(tails, num)\n",
      "            # Update the tail at the found index\n",
      "            tails[idx] = num\n",
      "\n",
      "    # The length of the longest increasing subsequence is the length of the tails list\n",
      "    return len(tails)\n",
      "\n",
      "\n",
      "def binary_search(arr: list[int], target: int) -> int:\n",
      "    \"\"\"\n",
      "    This function performs a binary search on the given array to find the index of the smallest element that is greater than or equal to the target.\n",
      "\n",
      "    Args:\n",
      "        arr (list[int]): A sorted list of integers.\n",
      "        target (int): The target number to search for.\n",
      "\n",
      "    Returns:\n",
      "        int: The index of the smallest element that is greater than or equal to the target.\n",
      "    \"\"\"\n",
      "    left, right = 0, len(arr) - 1\n",
      "    while left < right:\n",
      "        mid = (left + right) // 2\n",
      "        if arr[mid] < target:\n",
      "            left = mid + 1\n",
      "        else:\n",
      "            right = mid\n",
      "    return left\n"
     ]
    }
   ],
   "source": [
    "print(code.value)"
   ]
  },
  {
   "cell_type": "code",
   "execution_count": null,
   "metadata": {},
   "outputs": [],
   "source": []
  }
 ],
 "metadata": {
  "kernelspec": {
   "display_name": "Python 3",
   "language": "python",
   "name": "python3"
  },
  "language_info": {
   "codemirror_mode": {
    "name": "ipython",
    "version": 3
   },
   "file_extension": ".py",
   "mimetype": "text/x-python",
   "name": "python",
   "nbconvert_exporter": "python",
   "pygments_lexer": "ipython3",
   "version": "3.12.0"
  }
 },
 "nbformat": 4,
 "nbformat_minor": 2
}
